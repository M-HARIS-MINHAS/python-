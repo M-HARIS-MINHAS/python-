{
 "cells": [
  {
   "cell_type": "markdown",
   "id": "7dbc7501-10ae-4379-9b16-3c94da07d6d0",
   "metadata": {},
   "source": [
    "<h1>MARKDOWN</h1>\n",
    "<p>1.By defualt extension of jupyter -> .ipynb</p><br>\n",
    "<p>2.ESC+A (create cell above)</p><br>\n",
    "<p>3.ESC+B (create cell below)</p><br>\n",
    "<p>4.ESC+DD (Delete cell)</p><br>\n",
    "<p>5.CTRL+SHIFT+H ( all jupyter commands)</p><br>\n",
    "<p>6.SHIFT+ENTER (to run cell)</p><br>"
   ]
  },
  {
   "cell_type": "code",
   "execution_count": 18,
   "id": "3a4d1103-f9cd-4267-a13d-3c4679f22b0d",
   "metadata": {},
   "outputs": [
    {
     "name": "stdout",
     "output_type": "stream",
     "text": [
      "hello world\n"
     ]
    }
   ],
   "source": [
    "print(\"hello world\")"
   ]
  },
  {
   "cell_type": "code",
   "execution_count": 3,
   "id": "e0978bee-bff3-4683-9b52-701965f3e410",
   "metadata": {},
   "outputs": [
    {
     "name": "stdout",
     "output_type": "stream",
     "text": [
      "haris\n"
     ]
    }
   ],
   "source": [
    "print(\"haris\")"
   ]
  },
  {
   "cell_type": "code",
   "execution_count": 4,
   "id": "355186c7-0788-438b-9aa8-4af8df65a849",
   "metadata": {},
   "outputs": [
    {
     "data": {
      "text/plain": [
       "7"
      ]
     },
     "execution_count": 4,
     "metadata": {},
     "output_type": "execute_result"
    }
   ],
   "source": [
    "2+5"
   ]
  },
  {
   "cell_type": "markdown",
   "id": "128f0e1d-3f37-4669-95a8-568f2cb2eb45",
   "metadata": {},
   "source": [
    "5-2"
   ]
  },
  {
   "cell_type": "code",
   "execution_count": 6,
   "id": "6b01c9df-dd5a-4778-b6a4-80e8dbf84418",
   "metadata": {},
   "outputs": [
    {
     "data": {
      "text/plain": [
       "12"
      ]
     },
     "execution_count": 6,
     "metadata": {},
     "output_type": "execute_result"
    }
   ],
   "source": [
    "3*4"
   ]
  },
  {
   "cell_type": "code",
   "execution_count": 7,
   "id": "546d3c72-7771-484e-a761-a340c68968cb",
   "metadata": {},
   "outputs": [
    {
     "data": {
      "text/plain": [
       "4.0"
      ]
     },
     "execution_count": 7,
     "metadata": {},
     "output_type": "execute_result"
    }
   ],
   "source": [
    "8/2"
   ]
  },
  {
   "cell_type": "code",
   "execution_count": null,
   "id": "b288c53b-e236-4bc0-a288-486af7a063b3",
   "metadata": {},
   "outputs": [],
   "source": []
  }
 ],
 "metadata": {
  "kernelspec": {
   "display_name": "Python 3 (ipykernel)",
   "language": "python",
   "name": "python3"
  },
  "language_info": {
   "codemirror_mode": {
    "name": "ipython",
    "version": 3
   },
   "file_extension": ".py",
   "mimetype": "text/x-python",
   "name": "python",
   "nbconvert_exporter": "python",
   "pygments_lexer": "ipython3",
   "version": "3.11.7"
  }
 },
 "nbformat": 4,
 "nbformat_minor": 5
}
